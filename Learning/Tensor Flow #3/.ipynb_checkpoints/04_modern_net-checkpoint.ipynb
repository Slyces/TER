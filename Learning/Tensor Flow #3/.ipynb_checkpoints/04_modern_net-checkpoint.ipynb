{
 "cells": [
  {
   "cell_type": "code",
   "execution_count": 1,
   "metadata": {
    "collapsed": true,
    "deletable": true,
    "editable": true
   },
   "outputs": [],
   "source": [
    "import tensorflow as tf\n",
    "import numpy as np\n",
    "from tensorflow.examples.tutorials.mnist import input_data"
   ]
  },
  {
   "cell_type": "code",
   "execution_count": 3,
   "metadata": {
    "collapsed": false,
    "deletable": true,
    "editable": true
   },
   "outputs": [
    {
     "name": "stdout",
     "output_type": "stream",
     "text": [
      "Extracting MNIST_data/train-images-idx3-ubyte.gz\n",
      "Extracting MNIST_data/train-labels-idx1-ubyte.gz\n",
      "Extracting MNIST_data/t10k-images-idx3-ubyte.gz\n",
      "Extracting MNIST_data/t10k-labels-idx1-ubyte.gz\n",
      "Datasets(train=<tensorflow.contrib.learn.python.learn.datasets.mnist.DataSet object at 0x7fd753d65710>, validation=<tensorflow.contrib.learn.python.learn.datasets.mnist.DataSet object at 0x7fd716ccb4e0>, test=<tensorflow.contrib.learn.python.learn.datasets.mnist.DataSet object at 0x7fd716b06a90>)\n"
     ]
    }
   ],
   "source": [
    "# A priori, crée un noeud qui contient des valeurs de simension <shape> initalisés selon une loi normale\n",
    "def init_weights(shape):\n",
    "    return tf.Variable(tf.random_normal(shape, stddev=0.01))\n",
    "\n",
    "# Dropout ? Un article dit ça :\n",
    "# Dropout is a technique for addressing this problem.\n",
    "# The  key  idea  is  to  randomly  drop  units  (along  with  their  connections)  from  the  neural\n",
    "# network during training.  This prevents units from co-adapting too much.\n",
    "def model(X, w_h, w_h2, w_o, p_keep_input, p_keep_hidden): \n",
    "    # =====================================================================================================\n",
    "    # premier hidden layer : h\n",
    "    X = tf.nn.dropout(X, p_keep_input)\n",
    "    # --> dropout désactive certains neuronnes avec une certaine probabilité pour empêcher l'over-fitting\n",
    "    h = tf.nn.relu(tf.matmul(X, w_h))\n",
    "    # tf.nn relu est une fonction d'activation, comme le softmax ou la fonction logistique (à priori)\n",
    "    \n",
    "    # =====================================================================================================\n",
    "    # second hidden layer : h2\n",
    "    h = tf.nn.dropout(h, p_keep_hidden)\n",
    "    h2 = tf.nn.relu(tf.matmul(h, w_h2)) # w_h2 surement weights hidden layer 2\n",
    "\n",
    "    h2 = tf.nn.dropout(h2, p_keep_hidden)\n",
    "\n",
    "    return tf.matmul(h2, w_o) # w_o, surement weights output\n",
    "\n",
    "mnist = input_data.read_data_sets(\"MNIST_data/\", one_hot=True) # On load les datas du mnist\n",
    "trX, trY, teX, teY = mnist.train.images, mnist.train.labels, mnist.test.images, mnist.test.labels\n",
    "# trX : les inputs de train\n",
    "# trY : les outputs voulues de train\n",
    "# teX : inputs test\n",
    "# teY : outputs test"
   ]
  },
  {
   "cell_type": "code",
   "execution_count": 10,
   "metadata": {
    "collapsed": false
   },
   "outputs": [
    {
     "name": "stdout",
     "output_type": "stream",
     "text": [
      "========================================================================================================================\n",
      " Datasets(train=<tensorflow.contrib.learn.python.learn.datasets.mnist.DataSet object at 0x7fd753d65710>, validation=<tensorflow.contrib.learn.python.learn.datasets.mnist.DataSet object at 0x7fd716ccb4e0>, test=<tensorflow.contrib.learn.python.learn.datasets.mnist.DataSet object at 0x7fd716b06a90>)\n",
      "trX:  (55000, 784)\n",
      "trY:  (55000, 10)\n",
      "teX:  (10000, 784)\n",
      "teY:  (10000, 10)\n"
     ]
    }
   ],
   "source": [
    "print(\"=\" * 120 + '\\n',mnist)\n",
    "print(\"trX: \", trX.shape) # 55 000 lignes de 784 pixels (0/1)\n",
    "print(\"trY: \", trY.shape)\n",
    "print(\"teX: \", teX.shape) # 10 000 lignes\n",
    "print(\"teY: \", teY.shape)"
   ]
  },
  {
   "cell_type": "code",
   "execution_count": 12,
   "metadata": {
    "collapsed": false,
    "deletable": true,
    "editable": true
   },
   "outputs": [],
   "source": [
    "# Alors, ici, X devient une variable qui accepte des données externes, de 784 neuronnes\n",
    "# On travaille sur le fameux MNIST avec des images de 28 * 28 pixels = 784\n",
    "# On sait pas combien on va mettre de lignes, donc on met None pour \"Any\"\n",
    "# En Y, par contre, on s'attend à une probabilité d'appartenance aux digits, donc 10 digits\n",
    "X = tf.placeholder(\"float\", [None, 784])\n",
    "Y = tf.placeholder(\"float\", [None, 10])\n",
    "\n",
    "# On initialise les poids ... je comprends pas le 625 :/\n",
    "# Je suppose que c'est la taille du réseau : map de 784 -> 625 -> 625 -> 10\n",
    "# En matriciel, ça donne:\n",
    "# <input> [n x 784] * [784 x 625] * [625 x 625] * [625 x 10] ==> [n x 10] <output>\n",
    "w_h = init_weights([784, 625])\n",
    "w_h2 = init_weights([625, 625])\n",
    "w_o = init_weights([625, 10])\n",
    "\n",
    "p_keep_input = tf.placeholder(\"float\")   # La probabilité qui peut changer\n",
    "p_keep_hidden = tf.placeholder(\"float\")  # La probabilité qui peut changer\n",
    "py_x = model(X, w_h, w_h2, w_o, p_keep_input, p_keep_hidden) # On construit le modèle avec X l'input externe\n",
    "\n",
    "\n",
    "# On utilise le softmax comme fonction de coût (??)\n",
    "cost = tf.reduce_mean(tf.nn.softmax_cross_entropy_with_logits(logits=py_x, labels=Y))\n",
    "# On donne le modèle et ce qu'on attend --> le softmax est adapté pour catégoriser des labels\n",
    "train_op = tf.train.RMSPropOptimizer(0.001, 0.9).minimize(cost)\n",
    "# On train avec un optimizer ...\n",
    "predict_op = tf.argmax(py_x, 1) # Ici, on essaie de repérer la plus grande valeur, donc la prédiction"
   ]
  },
  {
   "cell_type": "code",
   "execution_count": 15,
   "metadata": {
    "collapsed": false,
    "deletable": true,
    "editable": true
   },
   "outputs": [],
   "source": [
    "sess = tf.Session()\n",
    "\n",
    "# Init variables\n",
    "tf.global_variables_initializer().run(session=sess)"
   ]
  },
  {
   "cell_type": "code",
   "execution_count": null,
   "metadata": {
    "collapsed": false,
    "deletable": true,
    "editable": true
   },
   "outputs": [
    {
     "name": "stdout",
     "output_type": "stream",
     "text": [
      "0 0.9727\n",
      "1 0.9743\n",
      "2 0.9741\n"
     ]
    }
   ],
   "source": [
    "for i in range(20):\n",
    "    for start, end in zip(range(0, len(trX), 128), range(128, len(trX)+1, 128)):\n",
    "        # batches of 128\n",
    "        sess.run(train_op, feed_dict={X: trX[start:end], Y: trY[start:end],\n",
    "                                          p_keep_input: 0.8, p_keep_hidden: 0.5})\n",
    "    print(i, np.mean(np.argmax(teY, axis=1) ==\n",
    "                         sess.run(predict_op, feed_dict={X: teX, Y: teY,\n",
    "                                                         p_keep_input: 1.0,\n",
    "                                                         p_keep_hidden: 1.0})))"
   ]
  },
  {
   "cell_type": "code",
   "execution_count": null,
   "metadata": {
    "collapsed": true
   },
   "outputs": [],
   "source": []
  },
  {
   "cell_type": "code",
   "execution_count": null,
   "metadata": {
    "collapsed": true
   },
   "outputs": [],
   "source": []
  },
  {
   "cell_type": "code",
   "execution_count": null,
   "metadata": {
    "collapsed": true
   },
   "outputs": [],
   "source": []
  }
 ],
 "metadata": {
  "kernelspec": {
   "display_name": "Python 3",
   "language": "python",
   "name": "python3"
  },
  "language_info": {
   "codemirror_mode": {
    "name": "ipython",
    "version": 3
   },
   "file_extension": ".py",
   "mimetype": "text/x-python",
   "name": "python",
   "nbconvert_exporter": "python",
   "pygments_lexer": "ipython3",
   "version": "3.5.2"
  }
 },
 "nbformat": 4,
 "nbformat_minor": 0
}

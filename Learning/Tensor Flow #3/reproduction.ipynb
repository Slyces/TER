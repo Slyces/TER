{
 "cells": [
  {
   "cell_type": "code",
   "execution_count": 1,
   "metadata": {
    "collapsed": true,
    "deletable": true,
    "editable": true
   },
   "outputs": [],
   "source": [
    "import tensorflow as tf, numpy as np, pandas"
   ]
  },
  {
   "cell_type": "code",
   "execution_count": 2,
   "metadata": {
    "collapsed": true,
    "deletable": true,
    "editable": true
   },
   "outputs": [],
   "source": [
    "# Fonction d'initialisation des variables de poids\n",
    "def init_weights(shape):\n",
    "    return tf.Variable(tf.random_normal(shape, stddev=0.01))"
   ]
  },
  {
   "cell_type": "code",
   "execution_count": 3,
   "metadata": {
    "collapsed": true,
    "deletable": true,
    "editable": true
   },
   "outputs": [],
   "source": [
    "# Notre modèle sera, d'après l'article, sur une architecture 40 - 41 - 41 - 4\n",
    "# <inputs> - 40\n",
    "# <hidden> - 41\n",
    "# <hidden> - 41\n",
    "# <output> -  4\n",
    "def model(X, w_h1, w_h2, w_o, p_keep_input=1., p_keep_hidden=1.): \n",
    "    # =====================================================================================================\n",
    "    # X    : les inputs, shape [n x 40]\n",
    "    # w_h1 : les poids du premier hidden layer, shape [40 x 41]\n",
    "    # w_h2 : les poids du second hidden layer, shape [41 x 41]\n",
    "    # w_o  : les poids du layer d'output, shape [41 x 4]\n",
    "    # vérification : [n x 40] [40 x 41] [41 x 41] [41 x 4] = [n x 4]\n",
    "    # =====================================================================================================\n",
    "    \n",
    "    X = tf.nn.dropout(X, p_keep_input)\n",
    "    # --> dropout désactive certains neuronnes avec une certaine probabilité pour empêcher l'over-fitting\n",
    "    h1 = tf.nn.relu(tf.matmul(X, w_h1)) # relu ? Un type de neuronnes, mais pas tout compris.\n",
    "    h1 = tf.nn.dropout(h1, p_keep_hidden)\n",
    "    \n",
    "    h2 = tf.nn.relu(tf.matmul(h1, w_h2))\n",
    "    h2 = tf.nn.dropout(h2, p_keep_hidden)\n",
    "\n",
    "    return tf.matmul(h2, w_o)"
   ]
  },
  {
   "cell_type": "code",
   "execution_count": null,
   "metadata": {
    "collapsed": false,
    "deletable": true,
    "editable": true
   },
   "outputs": [],
   "source": [
    "# Bon, ici, on charge les données qui vont nous servir pour les tests.\n",
    "# Quatre indices : Dow, Nasdaq, Rates, SNP500\n",
    "Dow = pandas.read_csv(\"dow.csv\", sep=\",\")\n",
    "print(Dow[:5]) # Donc le Dow ressemble à ça"
   ]
  },
  {
   "cell_type": "code",
   "execution_count": null,
   "metadata": {
    "collapsed": false,
    "deletable": true,
    "editable": true
   },
   "outputs": [],
   "source": [
    "Nasdaq = pandas.read_csv(\"nasdaq.csv\", sep=\",\")\n",
    "print(Nasdaq[:5])"
   ]
  },
  {
   "cell_type": "code",
   "execution_count": null,
   "metadata": {
    "collapsed": false,
    "deletable": true,
    "editable": true
   },
   "outputs": [],
   "source": [
    "SnP500 = pandas.read_csv(\"SP500.csv\", sep=\",\")\n",
    "print(SnP500[:5])"
   ]
  },
  {
   "cell_type": "code",
   "execution_count": null,
   "metadata": {
    "collapsed": false,
    "deletable": true,
    "editable": true
   },
   "outputs": [],
   "source": [
    "Rates = pandas.read_csv(\"rates.csv\", sep=\",\")\n",
    "print(Rates[:5])"
   ]
  },
  {
   "cell_type": "code",
   "execution_count": null,
   "metadata": {
    "collapsed": false,
    "deletable": true,
    "editable": true
   },
   "outputs": [],
   "source": [
    "# On observe déjà quelques soucis au niveau de l'index Rates. Ensuite, les autres indexs sont de même formats\n",
    "# mais pas de même taille / avec les mêmes dates\n",
    "indexes = (\"Dow\", \"Nasdaq\", \"SnP500\", \"Rates\")\n",
    "for var in indexes:\n",
    "    print(\"{} : {}\".format(var.rjust(6), eval(var).size))"
   ]
  },
  {
   "cell_type": "code",
   "execution_count": null,
   "metadata": {
    "collapsed": false,
    "deletable": true,
    "editable": true,
    "scrolled": true
   },
   "outputs": [],
   "source": [
    "# Pour gérer ça, on va créer une nouvelle table.\n",
    "# L'algorithme est simple : nous allons faire une intersection des données, pour ne pas avoir de jour présent\n",
    "# dans une base, mais pas dans l'autre.\n",
    "# A partir de là, il suffit de parcourir la base la moins fournie et de vérifier à chaque étape si la date\n",
    "# est présente dans les autres. Si oui, on rajoute l'entrée complètement renseignée\n",
    "\n",
    "# C'est le Nasdaq qui a le moins d'entrées.\n",
    "# Autre info : on garde seulement la valeur de close des indices complets\n",
    "datas = pandas.DataFrame(columns=['Date','Nasdaq', 'Dow', 'S&P500', 'Rates'])\n",
    "\n",
    "# Constructing the dates in reverse order (du coup, chronologique)\n",
    "for date in Nasdaq['Date'][::-1]:\n",
    "    if date in Dow['Date'].values and date in SnP500['Date'].values and date[:-3] in Rates['date'].values:\n",
    "        datas.loc[len(datas)] = [\n",
    "            date, \n",
    "            float(Dow.loc[Dow['Date'] == date, 'Close']),\n",
    "            float(Nasdaq.loc[Nasdaq['Date'] == date, 'Close']),\n",
    "            float(SnP500.loc[SnP500['Date'] == date, 'Close']),\n",
    "            float(Rates.loc[Rates['date'] == date[:-3], 'prime'])\n",
    "        ]"
   ]
  },
  {
   "cell_type": "code",
   "execution_count": null,
   "metadata": {
    "collapsed": false,
    "deletable": true,
    "editable": true
   },
   "outputs": [],
   "source": [
    "print(datas.head())"
   ]
  },
  {
   "cell_type": "code",
   "execution_count": null,
   "metadata": {
    "collapsed": false,
    "deletable": true,
    "editable": true
   },
   "outputs": [],
   "source": [
    "# Maintenant que c'est fait, on sauvegarde en csv\n",
    "datas.to_csv('datas.csv', sep=',', index=False)"
   ]
  },
  {
   "cell_type": "code",
   "execution_count": null,
   "metadata": {
    "collapsed": false,
    "deletable": true,
    "editable": true
   },
   "outputs": [],
   "source": [
    "# Ici commence le traitement des données\n",
    "# Selon l'article que nous essayons de reproduire, nous allons appliquer une normalisation des données dans [0, 1]\n",
    "\n",
    "# La formule est la suivante : Index(x) = (Index(x) - Min(Index))/(Max(Index) - Min(Index))\n",
    "processed = pandas.read_csv(\"datas.csv\", sep=\",\")\n",
    "print(processed.head())\n",
    "\n",
    "for index in 'Nasdaq Dow S&P500 Rates'.split():\n",
    "    M = max(processed.loc[:, index])\n",
    "    m = min(processed.loc[:, index])\n",
    "    for i in range(len(processed)):\n",
    "        processed.loc[i, index] = (processed.loc[i, index] - m) / (M - m)\n",
    "print(processed.head())"
   ]
  },
  {
   "cell_type": "code",
   "execution_count": null,
   "metadata": {
    "collapsed": true,
    "deletable": true,
    "editable": true
   },
   "outputs": [],
   "source": [
    "# On sauvegarde les données <processed>\n",
    "processed.to_csv('processed.csv', sep=',', index=False)"
   ]
  },
  {
   "cell_type": "code",
   "execution_count": 4,
   "metadata": {
    "collapsed": false,
    "deletable": true,
    "editable": true
   },
   "outputs": [],
   "source": [
    "# Ici on les re-charge, au cas où\n",
    "processed = pandas.read_csv(\"processed.csv\", sep=\",\")"
   ]
  },
  {
   "cell_type": "code",
   "execution_count": 5,
   "metadata": {
    "collapsed": false,
    "deletable": true,
    "editable": true
   },
   "outputs": [
    {
     "name": "stdout",
     "output_type": "stream",
     "text": [
      "[ 0.02264971  0.02290657  0.0229971   0.02283592  0.0226291   0.0221507\n",
      "  0.02144561  0.02152068  0.02193431  0.02240241  0.00932766  0.00944781\n",
      "  0.00947584  0.00938573  0.00932165  0.00917747  0.00897322  0.00898123\n",
      "  0.00916546  0.0092836   0.02370797  0.02405398  0.02420702  0.02390094\n",
      "  0.02347508  0.02292946  0.02225076  0.02249696  0.02292281  0.02307585\n",
      "  0.15246377  0.15246377  0.15246377  0.15246377  0.15246377  0.15246377\n",
      "  0.15246377  0.15246377  0.15246377  0.15246377]\n",
      "[ 0.02217057  0.00930563  0.02293612  0.15246377]\n"
     ]
    }
   ],
   "source": [
    "# Il reste encore quelques efforts sur les données\n",
    "# On va créer un objet sample, qui contient 11 jours.\n",
    "\n",
    "# La première nous fournira les 40 données d'input, dans une liste, sous cette forme :\n",
    "# [Dow[i:i+10] Nasdaq[i:i+10] S&P[i:i+10] Rates[i:i+10]]\n",
    "class Sample(object):\n",
    "    def __init__(self, i):\n",
    "        self.xdates = np.array(processed.loc[i:i+9, 'Date'])\n",
    "        self.x = np.concatenate((\n",
    "            np.array(processed.loc[i:i+9, 'Nasdaq']),\n",
    "            np.array(processed.loc[i:i+9, 'Dow']),\n",
    "            np.array(processed.loc[i:i+9, 'S&P500']),\n",
    "            np.array(processed.loc[i:i+9, 'Rates'])\n",
    "        ))\n",
    "        self.ydate = np.array(processed.loc[i+10, 'Date'])\n",
    "        self.y = np.array([\n",
    "            processed.loc[i+10, 'Nasdaq'],\n",
    "            processed.loc[i+10, 'Dow'],\n",
    "            processed.loc[i+10, 'S&P500'],\n",
    "            processed.loc[i+10, 'Rates']\n",
    "        ])\n",
    "    \n",
    "sample = Sample(4)\n",
    "print(sample.x)\n",
    "print(sample.y)"
   ]
  },
  {
   "cell_type": "code",
   "execution_count": 6,
   "metadata": {
    "collapsed": false,
    "deletable": true,
    "editable": true
   },
   "outputs": [
    {
     "name": "stdout",
     "output_type": "stream",
     "text": [
      "642 276\n"
     ]
    }
   ],
   "source": [
    "p_train = 0.7\n",
    "p_test = 1 - p_train\n",
    "n = len(processed.Date.values)//11\n",
    "samples = [\n",
    "    Sample(i*11) for i in range(n)\n",
    "]\n",
    "from random import sample\n",
    "indices = sample(samples, int(p_train*n))\n",
    "train = np.array(indices)\n",
    "test = []\n",
    "for i in range(n):\n",
    "    if samples[i] not in train:\n",
    "        test.append(samples[i])\n",
    "\n",
    "test = np.array(test)\n",
    "\n",
    "print(len(train), len(test))\n",
    "\n",
    "trX = np.array([tr.x for tr in train])\n",
    "trY = np.array([tr.y for tr in train])\n",
    "teX = np.array([te.x for te in test])\n",
    "teY = np.array([te.y for te in test])"
   ]
  },
  {
   "cell_type": "code",
   "execution_count": 7,
   "metadata": {
    "collapsed": false,
    "deletable": true,
    "editable": true
   },
   "outputs": [],
   "source": [
    "# Rappel :\n",
    "# =====================================================================================================\n",
    "# X    : les inputs, shape [n x 40]\n",
    "# w_h1 : les poids du premier hidden layer, shape [40 x 41]\n",
    "# w_h2 : les poids du second hidden layer, shape [41 x 41]\n",
    "# w_o  : les poids du layer d'output, shape [41 x 4]\n",
    "# vérification : [n x 40] [40 x 41] [41 x 41] [41 x 4] = [n x 4]\n",
    "# =====================================================================================================\n",
    "\n",
    "X = tf.placeholder(\"float\", [None, 40])\n",
    "Y = tf.placeholder(\"float\", [None, 4])\n",
    "\n",
    "w_h = init_weights([40, 41])\n",
    "w_h2 = init_weights([41, 41])\n",
    "w_o = init_weights([41, 4])\n",
    "\n",
    "p_keep_input = tf.placeholder(\"float\")   # La probabilité qui peut changer\n",
    "p_keep_hidden = tf.placeholder(\"float\")  # La probabilité qui peut changer\n",
    "py_x = model(X, w_h, w_h2, w_o, p_keep_input, p_keep_hidden) # On construit le modèle avec X l'input externe\n",
    "\n",
    "cost = tf.reduce_mean(tf.nn.softmax_cross_entropy_with_logits(logits=py_x, labels=Y))\n",
    "train_op = tf.train.RMSPropOptimizer(0.001, 0.9).minimize(cost) # Ligne importante, tout se joue ici\n",
    "# On train avec un optimizer ..."
   ]
  },
  {
   "cell_type": "code",
   "execution_count": 8,
   "metadata": {
    "collapsed": true,
    "deletable": true,
    "editable": true
   },
   "outputs": [],
   "source": [
    "sess = tf.Session()\n",
    "\n",
    "# Init variables\n",
    "tf.global_variables_initializer().run(session=sess)"
   ]
  },
  {
   "cell_type": "code",
   "execution_count": 9,
   "metadata": {
    "collapsed": false,
    "deletable": true,
    "editable": true
   },
   "outputs": [],
   "source": [
    "for i in range(20):\n",
    "    for start, end in zip(range(0, len(trX), 10), range(10, len(trX)+1, 10)):\n",
    "        # batches of 10\n",
    "        sess.run(train_op, feed_dict={X: trX[start:end], Y: trY[start:end],\n",
    "                                          p_keep_input: 1.0, p_keep_hidden: 1.0})\n",
    "    if i % 200 == 0:\n",
    "        pass\n",
    "#         print(i, teY, sess.run(py_x, feed_dict={X: teX, Y: teY, p_keep_input: 1.0, p_keep_hidden: 1.0}))\n",
    "print('finished')"
   ]
  },
  {
   "cell_type": "code",
   "execution_count": 10,
   "metadata": {
    "collapsed": false,
    "deletable": true,
    "editable": true
   },
   "outputs": [
    {
     "name": "stdout",
     "output_type": "stream",
     "text": [
      "[[ 0.02368232  0.00997847  0.0248458   0.12695652]\n",
      " [ 0.02494088  0.01107985  0.02581062  0.13043478]\n",
      " [ 0.02088919  0.01020075  0.02245038  0.1542029 ]\n",
      " [ 0.02408638  0.01099775  0.0249456   0.15942029]\n",
      " [ 0.02278587  0.01084556  0.02399409  0.15942029]] \n",
      " [[ 67.96429443  67.64094543  67.82937622  68.44441986]\n",
      " [ 69.82807922  69.49697876  69.68973541  70.31931305]\n",
      " [ 30.7574501   30.39392281  30.64519501  31.37360382]\n",
      " [ 34.3575592   33.98031998  34.2389679   34.9928894 ]\n",
      " [ 26.94470406  26.57163239  26.83348656  27.5847702 ]]\n"
     ]
    }
   ],
   "source": [
    "print(teY[0:5], '\\n', sess.run(py_x, feed_dict={X: teX[0:5], Y: teY[0:5], p_keep_input: 1.0, p_keep_hidden: 1.0}))"
   ]
  },
  {
   "cell_type": "code",
   "execution_count": 40,
   "metadata": {
    "collapsed": false,
    "deletable": true,
    "editable": true
   },
   "outputs": [
    {
     "name": "stdout",
     "output_type": "stream",
     "text": [
      "finished\n"
     ]
    }
   ],
   "source": [
    "predicted = [None for i in range(10)]\n",
    "Ys = []\n",
    "Ps = []\n",
    "for i in range(len(processed.Date)-11):\n",
    "    Xv = np.concatenate((\n",
    "            np.array(processed.loc[i:i+9, 'Nasdaq']),\n",
    "            np.array(processed.loc[i:i+9, 'Dow']),\n",
    "            np.array(processed.loc[i:i+9, 'S&P500']),\n",
    "            np.array(processed.loc[i:i+9, 'Rates'])\n",
    "        ))\n",
    "    Xv = Xv.reshape((1,40))\n",
    "    Yv = np.array([\n",
    "            processed.loc[i+10, 'Nasdaq'],\n",
    "            processed.loc[i+10, 'Dow'],\n",
    "            processed.loc[i+10, 'S&P500'],\n",
    "            processed.loc[i+10, 'Rates']\n",
    "        ])\n",
    "    Yv = Yv.reshape((1,4))\n",
    "    predict = sess.run(py_x, feed_dict={X: Xv, Y: Yv, p_keep_input: 1.0, p_keep_hidden: 1.0})\n",
    "    Ys += list(Yv)\n",
    "    Ps += list(predict)\n",
    "Ys = np.array(Ys)\n",
    "Ps = np.array(Ps)\n",
    "print('finished')"
   ]
  },
  {
   "cell_type": "code",
   "execution_count": 47,
   "metadata": {
    "collapsed": false
   },
   "outputs": [],
   "source": [
    "from matplotlib import pyplot as plt\n",
    "from matplotlib import dates as dt\n",
    "from datetime import datetime\n",
    "\n",
    "dates = np.array([datetime.strptime(x, '%Y-%m-%d') for x in processed.loc[11:,'Date']])\n",
    "dates = dt.date2num(dates)"
   ]
  },
  {
   "cell_type": "code",
   "execution_count": 54,
   "metadata": {
    "collapsed": false
   },
   "outputs": [
    {
     "data": {
      "image/png": "[encoded data removed]",
      "text/plain": [
       "<matplotlib.figure.Figure at 0x7f35a84464e0>"
      ]
     },
     "metadata": {},
     "output_type": "display_data"
    }
   ],
   "source": [
    "subs = [None for i in range(4)]\n",
    "for i in range(4):\n",
    "    subs[i] = plt.subplot(221 + i)\n",
    "\n",
    "    subs[i].plot_date(dates, Ps[:,1], lw=0.1)\n",
    "    subs[i].plot_date(dates, Ys[:,1], lw=0.1)\n",
    "    subs[i].set_title(\"Subplot {}\".format(i))\n",
    "plt.show()"
   ]
  }
 ],
 "metadata": {
  "kernelspec": {
   "display_name": "Python 3",
   "language": "python",
   "name": "python3"
  },
  "language_info": {
   "codemirror_mode": {
    "name": "ipython",
    "version": 3
   },
   "file_extension": ".py",
   "mimetype": "text/x-python",
   "name": "python",
   "nbconvert_exporter": "python",
   "pygments_lexer": "ipython3",
   "version": "3.5.2"
  }
 },
 "nbformat": 4,
 "nbformat_minor": 2
}
